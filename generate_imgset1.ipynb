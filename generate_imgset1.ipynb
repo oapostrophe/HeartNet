{
 "cells": [
  {
   "cell_type": "code",
   "execution_count": 1,
   "metadata": {},
   "outputs": [],
   "source": [
    "import pandas as pd\n",
    "import numpy as np\n",
    "import wfdb\n",
    "import ast\n",
    "\n",
    "def load_raw_data(df, sampling_rate, path):\n",
    "    if sampling_rate == 100:\n",
    "        # Original code: gets entire 100hz dataset\n",
    "        data = [wfdb.rdsamp(path+f) for f in df.filename_lr]\n",
    "\n",
    "        \"\"\"\n",
    "        # New code: Get just one record instead\n",
    "        data = [wfdb.rdsamp(\"./records100/00000/00001_lr\")]\n",
    "        \"\"\"\n",
    "    else:\n",
    "        \"\"\" Original code: gets entire 500hz dataset\n",
    "        data = [wfdb.rdsamp(path+f) for f in df.filename_hr]\n",
    "        \"\"\"\n",
    "\n",
    "        # New code: Get just one record instead\n",
    "        data = [wfdb.rdsamp(\"./records500/00000/00001_hr\")]\n",
    "\n",
    "    data = np.array([signal for signal, meta in data])\n",
    "    return data\n",
    "\n",
    "\n",
    "# Update with path to the ptbx folder\n",
    "path = \"../data/\"\n",
    "sampling_rate=100"
   ]
  },
  {
   "cell_type": "code",
   "execution_count": 6,
   "metadata": {},
   "outputs": [
    {
     "name": "stdout",
     "output_type": "stream",
     "text": [
      "reading labels from csv\n",
      "converting scp codes\n",
      "done!\n"
     ]
    }
   ],
   "source": [
    "print(\"reading labels from csv\")\n",
    "# load and convert annotation data\n",
    "Y = pd.read_csv(path+'ptbxl_database.csv', index_col='ecg_id')\n",
    "\n",
    "print(\"converting scp codes\")\n",
    "Y.scp_codes = Y.scp_codes.apply(lambda x: ast.literal_eval(x))\n",
    "\n",
    "# Load raw signal data\n",
    "X = load_raw_data(Y, sampling_rate, path)\n",
    "\n",
    "# Load scp_statements.csv for diagnostic aggregation\n",
    "agg_df = pd.read_csv(path+'scp_statements.csv', index_col=0)\n",
    "agg_df = agg_df[agg_df.diagnostic == 1]\n",
    "\n",
    "\"\"\"\n",
    "Original code:\n",
    "def aggregate_diagnostic(y_dic):\n",
    "    tmp = []\n",
    "    for key in y_dic.keys():\n",
    "        if key in agg_df.index:\n",
    "            tmp.append(agg_df.loc[key].diagnostic_class)\n",
    "    return list(set(tmp))\n",
    "\"\"\"\n",
    "# Modified to store MI / non-MI:\n",
    "def aggregate_diagnostic(y_dic):\n",
    "    tmp = []\n",
    "    for key in y_dic.keys():\n",
    "        if key in agg_df.index:\n",
    "            tmp.append(agg_df.loc[key].diagnostic_class)\n",
    "    return \"MI\" in tmp\n",
    "\n",
    "# Apply diagnostic superclass\n",
    "Y['diagnostic_superclass'] = Y.scp_codes.apply(aggregate_diagnostic)\n",
    "print(\"done!\")"
   ]
  },
  {
   "cell_type": "code",
   "execution_count": null,
   "metadata": {},
   "outputs": [],
   "source": [
    "\"\"\"# Split data into train and test\n",
    "test_fold = 10\n",
    "# Train\n",
    "X_train = X[np.where(Y.strat_fold != test_fold)]\n",
    "y_train = Y[(Y.strat_fold != test_fold)].diagnostic_superclass\n",
    "# Test\n",
    "X_test = X[np.where(Y.strat_fold == test_fold)]\n",
    "y_test = Y[Y.strat_fold == test_fold].diagnostic_superclass\n",
    "\"\"\""
   ]
  },
  {
   "cell_type": "code",
   "execution_count": 12,
   "metadata": {},
   "outputs": [
    {
     "name": "stdout",
     "output_type": "stream",
     "text": [
      "Int64Index([ 1,  2,  3,  4,  5,  6,  7,  9, 10, 11, 12, 13, 14, 15, 16, 17, 18,\n",
      "            19, 20, 21, 22, 23, 24, 25, 26, 27, 28, 29, 30, 31, 32, 33, 34, 35,\n",
      "            36, 37, 38, 40, 41, 42, 43, 44, 45, 46, 47, 48, 49, 51, 52, 53, 54,\n",
      "            55, 56, 57, 58, 59, 60, 61, 62, 64, 65, 66, 67, 68, 69, 70, 71, 72,\n",
      "            73, 74, 75, 76, 78, 79, 80, 81, 82, 83, 84, 85, 86, 87, 88, 89, 90,\n",
      "            91, 92, 93, 94, 95, 96, 97, 98, 99],\n",
      "           dtype='int64', name='ecg_id')\n"
     ]
    }
   ],
   "source": [
    "first_100 = Y[Y.index < 100]\n",
    "mi = first_100.index[first_100[\"diagnostic_superclass\"] == False]\n",
    "print(mi)"
   ]
  },
  {
   "cell_type": "code",
   "execution_count": 3,
   "id": "purple-nebraska",
   "metadata": {},
   "outputs": [
    {
     "name": "stdout",
     "output_type": "stream",
     "text": [
      "Generating images\n",
      "finished!\n"
     ]
    }
   ],
   "source": [
    "# Generate images\n",
    "print(\"Generating images\")\n",
    "\n",
    "import cv2\n",
    "import matplotlib.pyplot as plt\n",
    "\n",
    "patient_number = 1\n",
    "\n",
    "for patient in X[]:\n",
    "\n",
    "    # Concatenate 12 leads into an image\n",
    "    row_images = []\n",
    "    for row in range(3):\n",
    "\n",
    "        # Put 4 leads in each row\n",
    "        col_images = []\n",
    "        for col in range(4):\n",
    "            lead_number = row*4 + col\n",
    "            data = patient[ :, lead_number]\n",
    "\n",
    "            # Plot with MatPlotLib\n",
    "            fig = plt.figure(frameon=False)\n",
    "            plt.plot(data) \n",
    "\n",
    "            # Remove borders, ticks, etc.\n",
    "            plt.xticks([]), plt.yticks([])\n",
    "            for spine in plt.gca().spines.values():\n",
    "                spine.set_visible(False)\n",
    "\n",
    "            # Make image, resize, and convert to grayscale\n",
    "            filename = \"../data/converted_imgs/\" + str(lead_number) + \".png\"\n",
    "            fig.savefig(filename)\n",
    "            plt.close(fig)\n",
    "            im_gray = cv2.imread(filename, cv2.IMREAD_GRAYSCALE)\n",
    "            im_gray = cv2.resize(im_gray, (512, 512), interpolation = cv2.INTER_LANCZOS4)\n",
    "\n",
    "            # Add to images for current row\n",
    "            col_images.append(im_gray)\n",
    "\n",
    "        # Concatenate current row together, add to list of rows\n",
    "        im_row = cv2.hconcat(col_images)\n",
    "        row_images.append(im_row)\n",
    "\n",
    "    # Concatenate all rows into final image and save\n",
    "    im_final = cv2.vconcat(row_images)\n",
    "    cv2.imwrite(\"../data/converted_imgs/pt_\" + str(patient_number) + \".png\", im_final)\n",
    "    patient_number += 1\n",
    "\n",
    "\"\"\"\n",
    "# Create second image\n",
    "y_axis = X[0, :, 2]\n",
    "fig = plt.figure(frameon=False)\n",
    "plt.plot(y_axis) \n",
    "plt.xticks([]), plt.yticks([])\n",
    "for spine in plt.gca().spines.values():\n",
    "    spine.set_visible(False)\n",
    "\n",
    "filename = \"./converted_imgs/2.png\"\n",
    "fig.savefig(filename)\n",
    "\n",
    "im_gray2 = cv2.imread(filename, cv2.IMREAD_GRAYSCALE)\n",
    "im_gray2 = cv2.resize(im_gray2, (512, 512), interpolation = cv2.INTER_LANCZOS4)\n",
    "cv2.imwrite(filename, im_gray2)\n",
    "\n",
    "# concatenate\n",
    "im_v = cv2.hconcat([im_gray1, im_gray2]) \n",
    "# show the output image \n",
    "cv2.imwrite('./converted_imgs/final.png', im_v) \n",
    "\"\"\"\n",
    "print(\"finished!\")"
   ]
  },
  {
   "cell_type": "code",
   "execution_count": 18,
   "metadata": {},
   "outputs": [
    {
     "name": "stdout",
     "output_type": "stream",
     "text": [
      "moving images\n",
      "Done!\n"
     ]
    }
   ],
   "source": [
    "print(\"moving images\")\n",
    "# Divide up MI vs non-MI images\n",
    "import shutil\n",
    "\n",
    "mi = Y.index[Y[\"diagnostic_superclass\"]]\n",
    "\n",
    "for number in mi:\n",
    "    source = \"../data/normal/pt_\"+str(number)+\".png\"\n",
    "    target = \"../data/mi/\"\n",
    "    shutil.move(source, target)\n",
    "\n",
    "print(\"Done!\")"
   ]
  },
  {
   "cell_type": "code",
   "execution_count": null,
   "id": "possible-knock",
   "metadata": {},
   "outputs": [],
   "source": []
  }
 ],
 "metadata": {
  "kernelspec": {
   "display_name": "Python 3",
   "language": "python",
   "name": "python3"
  },
  "language_info": {
   "codemirror_mode": {
    "name": "ipython",
    "version": 3
   },
   "file_extension": ".py",
   "mimetype": "text/x-python",
   "name": "python",
   "nbconvert_exporter": "python",
   "pygments_lexer": "ipython3",
   "version": "3.9.2"
  }
 },
 "nbformat": 4,
 "nbformat_minor": 5
}